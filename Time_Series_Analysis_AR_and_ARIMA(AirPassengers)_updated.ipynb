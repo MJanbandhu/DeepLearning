{
  "cells": [
    {
      "cell_type": "markdown",
      "metadata": {
        "id": "view-in-github",
        "colab_type": "text"
      },
      "source": [
        "<a href=\"https://colab.research.google.com/github/MJanbandhu/DeepLearning/blob/main/Time_Series_Analysis_AR_and_ARIMA(AirPassengers)_updated.ipynb\" target=\"_parent\"><img src=\"https://colab.research.google.com/assets/colab-badge.svg\" alt=\"Open In Colab\"/></a>"
      ]
    },
    {
      "cell_type": "markdown",
      "metadata": {
        "id": "UHChvaQjPvJ0"
      },
      "source": [
        "# What is Time Series?\n",
        "* Across industries, organizations commonly use time series data, which refers to any information collected over a regular interval of time in their operations. Examples include daily stock prices, energy consumption rates, social media engagement metrics, and retail demand among others. Analyzing time series data yields insights like trends, seasonal patterns and forecasts into future events that can help generate profits. For example, by understanding the seasonal trends in demand for retail products, companies can plan promotions to maximize sales throughout the year.\n",
        "* There are multiple time series algorithms that are optimized for forecasting continuous values, such as temperature or product sales. A time series model can predict trends based only on the original dataset collected over a period of time.\n",
        "\n",
        "**White noise**\n",
        "* A time series is white noise if the variables are independent and identically distributed with a mean of zero. This means that all variables have the same variance (sigma^2) and each value has a zero correlation with all other values in the series.\n",
        "\n",
        "\n",
        "**Data patterns**\n",
        "\n",
        "**cycle**\n",
        "* A cyclic pattern occurs when data rise and fall, but this does not happen within the fixed time and the duration of these fluctuations is usually at least 2 years\n",
        "![](cycle.png)\n",
        "\n",
        "**Trend**\n",
        "* A trend pattern exists when there is a long-term increase or decrease in the series. The trend can be linear, exponential\n",
        "![](trend.png)\n",
        "\n",
        "**Seasonal**\n",
        "* Seasonality exists when data is influenced by seasonal factors, such as a day of the week, a month, and one-quarter of the year. A seasonal pattern exists of a fixed known period.\n",
        "![](sea.png)\n",
        "\n",
        "**Random**\n",
        "* which do not follow any trend, cycle or seasonal patterns\n",
        "![](ran.png)\n",
        "\n",
        "\n",
        "**Types**\n",
        "* Types of time series models are moving average, ARIMA etc.The crucial thing is to choose the right forecasting method as per the characteristics of the time series data. The following are some of the basic time series models:\n",
        "\n",
        "\n",
        "\n",
        "**MA(Moving Average)**\n",
        "* A moving average is defined as an average of fixed number of items in the time series which move through the series by dropping the top items of the previous averaged group and adding the next in each successive average.\n",
        "Yt depends only on random error terms\n",
        "     \tYt = f( εt, εt-1, εt-2, εt-3, ..)\n",
        "\t\tor\n",
        " \tYt = β + εt + θ1 εt-1 + θ2εt-2 + θ3 εt-3 +…\n",
        "\n",
        "\n",
        "\n",
        "**AR(Auto Regressive)**\n",
        "* Autoregression is a time series model that uses observations from previous time steps as input to a regression equation to predict the value at the next time step. It is a very simple idea that can result in accurate forecasts on a range of time series problems.\n",
        "* Yt depends only of past values.\n",
        "* Yt-1, Yt-2, Yt-3 etc\n",
        "              * Yt  = f(Yt-1, Yt-2, Yt-3… )\n",
        "              * Yt = β0 + β1Yt-1 + β2Yt-2 + β3Yt-3 …\n",
        "\n",
        "\n",
        "**ARMA**\n",
        "* Time series, autoregressive–moving-average (ARMA) models provide a parsimonious description of a (weakly) stationary stochastic process in terms of two polynomials, one for the autoregression (AR) and the second for the moving average (MA).\n",
        "* Combines AR and MA\n",
        "\t* Yt = β0 + β1Yt-1 + β2Yt-2 + β3Yt-3 …εt + θ1 εt-1 + θ2εt-2 + θ3 εt-3 +…\n",
        "\n",
        "\n",
        "**ARIMA**\n",
        "* Autoregressive Integrated Moving Average (ARIMA) model is another widely used forecasting technique that involves the combination of two or more time series models. This model is suitable for multivariate non-stationary data. ARIMA method is based on the concepts of autoregression, autocorrelation, and moving average.\n",
        "\n",
        "\n",
        "\n",
        "\n"
      ]
    },
    {
      "cell_type": "markdown",
      "metadata": {
        "id": "iR6i0sLiwFGo"
      },
      "source": [
        "### Create a Time Series Model to predict the future air passenger traffic"
      ]
    },
    {
      "cell_type": "code",
      "execution_count": null,
      "metadata": {
        "id": "UO9RWLyWPvKb"
      },
      "outputs": [],
      "source": [
        "## Importing librries\n",
        "import numpy as np\n",
        "import pandas as pd\n",
        "\n",
        "import warnings\n",
        "warnings.filterwarnings('ignore')"
      ]
    },
    {
      "cell_type": "code",
      "execution_count": null,
      "metadata": {
        "id": "8pBxwl_7wFGq"
      },
      "outputs": [],
      "source": [
        "## loading the data\n",
        "\n",
        "data = pd.read_csv('AirPassengers.csv')\n",
        "# we have data of airline passengers travelled between January 1949 and December 1960"
      ]
    },
    {
      "cell_type": "code",
      "execution_count": null,
      "metadata": {
        "colab": {
          "base_uri": "https://localhost:8080/",
          "height": 206
        },
        "id": "gNs3ffeyPvKh",
        "outputId": "83daf959-2bc7-40c0-a270-962032878833"
      },
      "outputs": [
        {
          "data": {
            "text/html": [
              "<div>\n",
              "<style scoped>\n",
              "    .dataframe tbody tr th:only-of-type {\n",
              "        vertical-align: middle;\n",
              "    }\n",
              "\n",
              "    .dataframe tbody tr th {\n",
              "        vertical-align: top;\n",
              "    }\n",
              "\n",
              "    .dataframe thead th {\n",
              "        text-align: right;\n",
              "    }\n",
              "</style>\n",
              "<table border=\"1\" class=\"dataframe\">\n",
              "  <thead>\n",
              "    <tr style=\"text-align: right;\">\n",
              "      <th></th>\n",
              "      <th>Month</th>\n",
              "      <th>#Passengers</th>\n",
              "    </tr>\n",
              "  </thead>\n",
              "  <tbody>\n",
              "    <tr>\n",
              "      <th>0</th>\n",
              "      <td>1949-01</td>\n",
              "      <td>112</td>\n",
              "    </tr>\n",
              "    <tr>\n",
              "      <th>1</th>\n",
              "      <td>1949-02</td>\n",
              "      <td>118</td>\n",
              "    </tr>\n",
              "    <tr>\n",
              "      <th>2</th>\n",
              "      <td>1949-03</td>\n",
              "      <td>132</td>\n",
              "    </tr>\n",
              "    <tr>\n",
              "      <th>3</th>\n",
              "      <td>1949-04</td>\n",
              "      <td>129</td>\n",
              "    </tr>\n",
              "    <tr>\n",
              "      <th>4</th>\n",
              "      <td>1949-05</td>\n",
              "      <td>121</td>\n",
              "    </tr>\n",
              "  </tbody>\n",
              "</table>\n",
              "</div>"
            ],
            "text/plain": [
              "     Month  #Passengers\n",
              "0  1949-01          112\n",
              "1  1949-02          118\n",
              "2  1949-03          132\n",
              "3  1949-04          129\n",
              "4  1949-05          121"
            ]
          },
          "execution_count": 125,
          "metadata": {},
          "output_type": "execute_result"
        }
      ],
      "source": [
        "data.head() #first five rows"
      ]
    },
    {
      "cell_type": "code",
      "execution_count": null,
      "metadata": {
        "colab": {
          "base_uri": "https://localhost:8080/",
          "height": 206
        },
        "id": "a6Pq7vJIPvKk",
        "outputId": "46e008ca-fdda-4ec8-d7c5-330c9bc603b6"
      },
      "outputs": [
        {
          "data": {
            "text/html": [
              "<div>\n",
              "<style scoped>\n",
              "    .dataframe tbody tr th:only-of-type {\n",
              "        vertical-align: middle;\n",
              "    }\n",
              "\n",
              "    .dataframe tbody tr th {\n",
              "        vertical-align: top;\n",
              "    }\n",
              "\n",
              "    .dataframe thead th {\n",
              "        text-align: right;\n",
              "    }\n",
              "</style>\n",
              "<table border=\"1\" class=\"dataframe\">\n",
              "  <thead>\n",
              "    <tr style=\"text-align: right;\">\n",
              "      <th></th>\n",
              "      <th>Month</th>\n",
              "      <th>#Passengers</th>\n",
              "    </tr>\n",
              "  </thead>\n",
              "  <tbody>\n",
              "    <tr>\n",
              "      <th>139</th>\n",
              "      <td>1960-08</td>\n",
              "      <td>606</td>\n",
              "    </tr>\n",
              "    <tr>\n",
              "      <th>140</th>\n",
              "      <td>1960-09</td>\n",
              "      <td>508</td>\n",
              "    </tr>\n",
              "    <tr>\n",
              "      <th>141</th>\n",
              "      <td>1960-10</td>\n",
              "      <td>461</td>\n",
              "    </tr>\n",
              "    <tr>\n",
              "      <th>142</th>\n",
              "      <td>1960-11</td>\n",
              "      <td>390</td>\n",
              "    </tr>\n",
              "    <tr>\n",
              "      <th>143</th>\n",
              "      <td>1960-12</td>\n",
              "      <td>432</td>\n",
              "    </tr>\n",
              "  </tbody>\n",
              "</table>\n",
              "</div>"
            ],
            "text/plain": [
              "       Month  #Passengers\n",
              "139  1960-08          606\n",
              "140  1960-09          508\n",
              "141  1960-10          461\n",
              "142  1960-11          390\n",
              "143  1960-12          432"
            ]
          },
          "execution_count": 126,
          "metadata": {},
          "output_type": "execute_result"
        }
      ],
      "source": [
        "data.tail() #last 5 rows"
      ]
    },
    {
      "cell_type": "code",
      "execution_count": null,
      "metadata": {
        "colab": {
          "base_uri": "https://localhost:8080/"
        },
        "id": "j30sCuJRPvKn",
        "outputId": "3a7fdf9a-888b-4af1-fa93-e7a328b0f91a"
      },
      "outputs": [
        {
          "name": "stdout",
          "output_type": "stream",
          "text": [
            "<class 'pandas.core.frame.DataFrame'>\n",
            "RangeIndex: 144 entries, 0 to 143\n",
            "Data columns (total 2 columns):\n",
            " #   Column       Non-Null Count  Dtype \n",
            "---  ------       --------------  ----- \n",
            " 0   Month        144 non-null    object\n",
            " 1   #Passengers  144 non-null    int64 \n",
            "dtypes: int64(1), object(1)\n",
            "memory usage: 2.4+ KB\n"
          ]
        }
      ],
      "source": [
        "data.info() #info about datatype and null value"
      ]
    },
    {
      "cell_type": "code",
      "execution_count": null,
      "metadata": {
        "id": "pEuZd1zLwFGt"
      },
      "outputs": [],
      "source": [
        "# Month is actually given as string here. It must be in date-time format"
      ]
    },
    {
      "cell_type": "code",
      "execution_count": null,
      "metadata": {
        "id": "s1xsw6ahPvKs"
      },
      "outputs": [],
      "source": [
        "## parse_dates: parsing the date (Converts the string representation of a date to Date object)\n",
        "# index_col: using date column as index\n",
        "\n",
        "data = pd.read_csv('AirPassengers.csv',parse_dates=[0],index_col='Month') # parse_dates=[0],"
      ]
    },
    {
      "cell_type": "code",
      "execution_count": null,
      "metadata": {
        "id": "RByIqotLbzNZ",
        "outputId": "36052dc4-a05b-41ee-bae4-6c51f32a5f9c"
      },
      "outputs": [
        {
          "data": {
            "text/html": [
              "<div>\n",
              "<style scoped>\n",
              "    .dataframe tbody tr th:only-of-type {\n",
              "        vertical-align: middle;\n",
              "    }\n",
              "\n",
              "    .dataframe tbody tr th {\n",
              "        vertical-align: top;\n",
              "    }\n",
              "\n",
              "    .dataframe thead th {\n",
              "        text-align: right;\n",
              "    }\n",
              "</style>\n",
              "<table border=\"1\" class=\"dataframe\">\n",
              "  <thead>\n",
              "    <tr style=\"text-align: right;\">\n",
              "      <th></th>\n",
              "      <th>#Passengers</th>\n",
              "    </tr>\n",
              "    <tr>\n",
              "      <th>Month</th>\n",
              "      <th></th>\n",
              "    </tr>\n",
              "  </thead>\n",
              "  <tbody>\n",
              "    <tr>\n",
              "      <th>1949-01-01</th>\n",
              "      <td>112</td>\n",
              "    </tr>\n",
              "    <tr>\n",
              "      <th>1949-02-01</th>\n",
              "      <td>118</td>\n",
              "    </tr>\n",
              "    <tr>\n",
              "      <th>1949-03-01</th>\n",
              "      <td>132</td>\n",
              "    </tr>\n",
              "    <tr>\n",
              "      <th>1949-04-01</th>\n",
              "      <td>129</td>\n",
              "    </tr>\n",
              "    <tr>\n",
              "      <th>1949-05-01</th>\n",
              "      <td>121</td>\n",
              "    </tr>\n",
              "    <tr>\n",
              "      <th>...</th>\n",
              "      <td>...</td>\n",
              "    </tr>\n",
              "    <tr>\n",
              "      <th>1960-08-01</th>\n",
              "      <td>606</td>\n",
              "    </tr>\n",
              "    <tr>\n",
              "      <th>1960-09-01</th>\n",
              "      <td>508</td>\n",
              "    </tr>\n",
              "    <tr>\n",
              "      <th>1960-10-01</th>\n",
              "      <td>461</td>\n",
              "    </tr>\n",
              "    <tr>\n",
              "      <th>1960-11-01</th>\n",
              "      <td>390</td>\n",
              "    </tr>\n",
              "    <tr>\n",
              "      <th>1960-12-01</th>\n",
              "      <td>432</td>\n",
              "    </tr>\n",
              "  </tbody>\n",
              "</table>\n",
              "<p>144 rows × 1 columns</p>\n",
              "</div>"
            ],
            "text/plain": [
              "            #Passengers\n",
              "Month                  \n",
              "1949-01-01          112\n",
              "1949-02-01          118\n",
              "1949-03-01          132\n",
              "1949-04-01          129\n",
              "1949-05-01          121\n",
              "...                 ...\n",
              "1960-08-01          606\n",
              "1960-09-01          508\n",
              "1960-10-01          461\n",
              "1960-11-01          390\n",
              "1960-12-01          432\n",
              "\n",
              "[144 rows x 1 columns]"
            ]
          },
          "execution_count": 130,
          "metadata": {},
          "output_type": "execute_result"
        }
      ],
      "source": [
        "data"
      ]
    },
    {
      "cell_type": "code",
      "execution_count": null,
      "metadata": {
        "id": "jelsMuD6bzNa",
        "outputId": "d68b377a-a624-480a-dc28-31ed10db87e7"
      },
      "outputs": [
        {
          "name": "stdout",
          "output_type": "stream",
          "text": [
            "<class 'pandas.core.frame.DataFrame'>\n",
            "DatetimeIndex: 144 entries, 1949-01-01 to 1960-12-01\n",
            "Data columns (total 1 columns):\n",
            " #   Column       Non-Null Count  Dtype\n",
            "---  ------       --------------  -----\n",
            " 0   #Passengers  144 non-null    int64\n",
            "dtypes: int64(1)\n",
            "memory usage: 2.2 KB\n"
          ]
        }
      ],
      "source": [
        "data.info()"
      ]
    },
    {
      "cell_type": "markdown",
      "metadata": {
        "id": "Jai9mIByPvK0"
      },
      "source": [
        "# Basic checks"
      ]
    },
    {
      "cell_type": "code",
      "execution_count": null,
      "metadata": {
        "colab": {
          "base_uri": "https://localhost:8080/",
          "height": 237
        },
        "id": "XHukVkFPPvK5",
        "outputId": "8cfcc3ae-675d-43b7-d82b-96236124dbb9"
      },
      "outputs": [
        {
          "data": {
            "text/html": [
              "<div>\n",
              "<style scoped>\n",
              "    .dataframe tbody tr th:only-of-type {\n",
              "        vertical-align: middle;\n",
              "    }\n",
              "\n",
              "    .dataframe tbody tr th {\n",
              "        vertical-align: top;\n",
              "    }\n",
              "\n",
              "    .dataframe thead th {\n",
              "        text-align: right;\n",
              "    }\n",
              "</style>\n",
              "<table border=\"1\" class=\"dataframe\">\n",
              "  <thead>\n",
              "    <tr style=\"text-align: right;\">\n",
              "      <th></th>\n",
              "      <th>#Passengers</th>\n",
              "    </tr>\n",
              "    <tr>\n",
              "      <th>Month</th>\n",
              "      <th></th>\n",
              "    </tr>\n",
              "  </thead>\n",
              "  <tbody>\n",
              "    <tr>\n",
              "      <th>1949-01-01</th>\n",
              "      <td>112</td>\n",
              "    </tr>\n",
              "    <tr>\n",
              "      <th>1949-02-01</th>\n",
              "      <td>118</td>\n",
              "    </tr>\n",
              "    <tr>\n",
              "      <th>1949-03-01</th>\n",
              "      <td>132</td>\n",
              "    </tr>\n",
              "    <tr>\n",
              "      <th>1949-04-01</th>\n",
              "      <td>129</td>\n",
              "    </tr>\n",
              "    <tr>\n",
              "      <th>1949-05-01</th>\n",
              "      <td>121</td>\n",
              "    </tr>\n",
              "  </tbody>\n",
              "</table>\n",
              "</div>"
            ],
            "text/plain": [
              "            #Passengers\n",
              "Month                  \n",
              "1949-01-01          112\n",
              "1949-02-01          118\n",
              "1949-03-01          132\n",
              "1949-04-01          129\n",
              "1949-05-01          121"
            ]
          },
          "execution_count": 132,
          "metadata": {},
          "output_type": "execute_result"
        }
      ],
      "source": [
        "data.head()#first five rows"
      ]
    },
    {
      "cell_type": "code",
      "execution_count": null,
      "metadata": {
        "id": "Jt5nqjUWPvLB"
      },
      "outputs": [],
      "source": [
        "data.rename(columns = {'#Passengers': 'Passengers'}, inplace = True)"
      ]
    },
    {
      "cell_type": "code",
      "execution_count": null,
      "metadata": {
        "id": "NIRkAd6YwFGv",
        "outputId": "165ec8a0-7c73-4480-bc44-411133402065"
      },
      "outputs": [
        {
          "data": {
            "text/plain": [
              "Month\n",
              "1949-01-01    112\n",
              "1949-02-01    118\n",
              "1949-03-01    132\n",
              "1949-04-01    129\n",
              "1949-05-01    121\n",
              "             ... \n",
              "1960-08-01    606\n",
              "1960-09-01    508\n",
              "1960-10-01    461\n",
              "1960-11-01    390\n",
              "1960-12-01    432\n",
              "Name: Passengers, Length: 144, dtype: int64"
            ]
          },
          "execution_count": 134,
          "metadata": {},
          "output_type": "execute_result"
        }
      ],
      "source": [
        "data['Passengers']"
      ]
    },
    {
      "cell_type": "code",
      "execution_count": null,
      "metadata": {
        "id": "TBS9mnCxPvLF",
        "outputId": "257167dc-fbe6-4ab9-d39a-1666851150bb"
      },
      "outputs": [
        {
          "data": {
            "text/html": [
              "<div>\n",
              "<style scoped>\n",
              "    .dataframe tbody tr th:only-of-type {\n",
              "        vertical-align: middle;\n",
              "    }\n",
              "\n",
              "    .dataframe tbody tr th {\n",
              "        vertical-align: top;\n",
              "    }\n",
              "\n",
              "    .dataframe thead th {\n",
              "        text-align: right;\n",
              "    }\n",
              "</style>\n",
              "<table border=\"1\" class=\"dataframe\">\n",
              "  <thead>\n",
              "    <tr style=\"text-align: right;\">\n",
              "      <th></th>\n",
              "      <th>Passengers</th>\n",
              "    </tr>\n",
              "  </thead>\n",
              "  <tbody>\n",
              "    <tr>\n",
              "      <th>count</th>\n",
              "      <td>144.000000</td>\n",
              "    </tr>\n",
              "    <tr>\n",
              "      <th>mean</th>\n",
              "      <td>280.298611</td>\n",
              "    </tr>\n",
              "    <tr>\n",
              "      <th>std</th>\n",
              "      <td>119.966317</td>\n",
              "    </tr>\n",
              "    <tr>\n",
              "      <th>min</th>\n",
              "      <td>104.000000</td>\n",
              "    </tr>\n",
              "    <tr>\n",
              "      <th>25%</th>\n",
              "      <td>180.000000</td>\n",
              "    </tr>\n",
              "    <tr>\n",
              "      <th>50%</th>\n",
              "      <td>265.500000</td>\n",
              "    </tr>\n",
              "    <tr>\n",
              "      <th>75%</th>\n",
              "      <td>360.500000</td>\n",
              "    </tr>\n",
              "    <tr>\n",
              "      <th>max</th>\n",
              "      <td>622.000000</td>\n",
              "    </tr>\n",
              "  </tbody>\n",
              "</table>\n",
              "</div>"
            ],
            "text/plain": [
              "       Passengers\n",
              "count  144.000000\n",
              "mean   280.298611\n",
              "std    119.966317\n",
              "min    104.000000\n",
              "25%    180.000000\n",
              "50%    265.500000\n",
              "75%    360.500000\n",
              "max    622.000000"
            ]
          },
          "execution_count": 35,
          "metadata": {},
          "output_type": "execute_result"
        }
      ],
      "source": [
        "data.describe() ##used to view some basic statistical details like percentile, mean, std etc."
      ]
    },
    {
      "cell_type": "markdown",
      "metadata": {
        "id": "5n41q_JFPvLH"
      },
      "source": [
        "# EDA"
      ]
    },
    {
      "cell_type": "code",
      "execution_count": null,
      "metadata": {
        "colab": {
          "base_uri": "https://localhost:8080/",
          "height": 530
        },
        "id": "1cKfSV7yPvLJ",
        "outputId": "75809573-43fc-4783-a695-53a6df3582e2"
      },
      "outputs": [
        {
          "data": {
            "image/png": "[encoded data removed]",
            "text/plain": [
              "<Figure size 2500x1500 with 1 Axes>"
            ]
          },
          "metadata": {},
          "output_type": "display_data"
        }
      ],
      "source": [
        "import matplotlib.pyplot as plt\n",
        "plt.figure(figsize=(25,15),facecolor='orange')#canvas  size\n",
        "plt.plot(data)#line plot\n",
        "plt.tight_layout()\n",
        "## from plot we can see the series given is not stationary"
      ]
    },
    {
      "cell_type": "markdown",
      "metadata": {
        "id": "Z21N8nnFPvLM"
      },
      "source": [
        "## Stationarity"
      ]
    },
    {
      "cell_type": "markdown",
      "metadata": {
        "id": "XWPlYwNnPvLN"
      },
      "source": [
        "* Stationarity means that the statistical properties of a time series (or rather the process generating it) do not change over time.\n",
        "* Stationarity is important because many useful analytical tools and statistical tests and models rely on it."
      ]
    },
    {
      "cell_type": "markdown",
      "metadata": {
        "id": "jFpHTq9tPvLO"
      },
      "source": [
        "* Constant mean\n",
        "* Constant variance\n",
        "* Constant covariance between periods of identical distance"
      ]
    },
    {
      "cell_type": "markdown",
      "metadata": {
        "id": "kaKG7T53PvLQ"
      },
      "source": [
        "* All it states is that the covariance between time periods of identical lengths (let’s say 10 days/hours/minutes) should be identical to the covariance of some other period of the same length:\n",
        "\n",
        "![image-2.png](attachment:image-2.png)\n",
        "\n"
      ]
    },
    {
      "cell_type": "markdown",
      "metadata": {
        "id": "i6nUJAojPvLR"
      },
      "source": [
        "**Why do we need Stationarity?**\n",
        "- Stationary processes are easier to analyze\n",
        "- Stationarity is assumed by most of the algorithms\n",
        "- It is essential to remove any trend or seasonality before modeling the time series data because if the statistical properties do not change over time, it is easier to model the data accurately. One of the popular ways of making the series stationary is differencing."
      ]
    },
    {
      "cell_type": "markdown",
      "metadata": {
        "id": "7zudgz6HPvLY"
      },
      "source": [
        "**How to check if given series is stationary or not:**\n",
        "- One way is to check autocorrelation.\n",
        "- Autocorrelation is the similarity between observations as a function of the time lag between them."
      ]
    },
    {
      "cell_type": "markdown",
      "metadata": {
        "id": "7tm6yxI3PvLa"
      },
      "source": [
        "* When plotting the value of the ACF for increasing lags (a plot called a correlogram), the values tend to degrade to zero quickly for stationary time series, while for non-stationary data the degradation will happen more slowly."
      ]
    },
    {
      "cell_type": "code",
      "execution_count": null,
      "metadata": {
        "id": "pmuoLNV3bzNh"
      },
      "outputs": [],
      "source": []
    },
    {
      "cell_type": "code",
      "execution_count": null,
      "metadata": {
        "id": "qh0SiJpEbzNh"
      },
      "outputs": [],
      "source": []
    },
    {
      "cell_type": "markdown",
      "metadata": {
        "id": "WLdeGHGvbzNi"
      },
      "source": [
        "## Autocorrelation Factor plot"
      ]
    },
    {
      "cell_type": "markdown",
      "metadata": {
        "id": "7k14jCVubzNj"
      },
      "source": [
        "- Autocorrelation measures the similarity between observations of a time series separated by various time lags. It helps in identifying the presence of any repetitive patterns or trends within the dataset over time.\n"
      ]
    },
    {
      "cell_type": "code",
      "execution_count": null,
      "metadata": {
        "colab": {
          "base_uri": "https://localhost:8080/",
          "height": 545
        },
        "id": "yqNUV5uZPvLe",
        "outputId": "cf1e932b-8cde-40c7-a76b-e4a7c951c87c"
      },
      "outputs": [
        {
          "data": {
            "image/png": "[encoded data removed]",
            "text/plain": [
              "<Figure size 640x480 with 1 Axes>"
            ]
          },
          "metadata": {},
          "output_type": "display_data"
        }
      ],
      "source": [
        "## Plotting the autocorrelation function\n",
        "\n",
        "from statsmodels.graphics.tsaplots import plot_acf\n",
        "import pylab as py\n",
        "\n",
        "plot_acf(data)\n",
        "py.show()"
      ]
    },
    {
      "cell_type": "raw",
      "metadata": {
        "id": "8LVkB1ELPvLb"
      },
      "source": [
        "From the autocorrelation plot, it is clear that given series is not stationary."
      ]
    },
    {
      "cell_type": "raw",
      "metadata": {
        "id": "6292aaLKwFGy"
      },
      "source": [
        "We can perform the ADfuller test, a test based on hypothesis, where if the p-value is less than 0.05, then we can consider the time series is stationary, and if the P-value is greater than 0.05, then the time series is non-stationary."
      ]
    },
    {
      "cell_type": "code",
      "execution_count": null,
      "metadata": {
        "id": "SR7CB6aDwFGy",
        "outputId": "98fc4436-8b29-4162-aa5f-1f794a2c1991"
      },
      "outputs": [
        {
          "name": "stdout",
          "output_type": "stream",
          "text": [
            "1. ADF :  0.8153688792060482\n",
            "2. P-Value :  0.991880243437641\n",
            "3. Num Of Lags :  13\n",
            "4. Num Of Observations Used For ADF Regression and Critical Values Calculation : 130\n",
            "5. Critical Values :\n",
            "\t 1% :  -3.4816817173418295\n",
            "\t 5% :  -2.8840418343195267\n",
            "\t 10% :  -2.578770059171598\n"
          ]
        }
      ],
      "source": [
        "# ADfuller Test to check stationarity\n",
        "\n",
        "from statsmodels.tsa.stattools import adfuller\n",
        "dftest = adfuller(data.Passengers)\n",
        "\n",
        "print(\"1. ADF : \",dftest[0])\n",
        "print(\"2. P-Value : \", dftest[1])\n",
        "print(\"3. Num Of Lags : \", dftest[2])\n",
        "print(\"4. Num Of Observations Used For ADF Regression and Critical Values Calculation :\", dftest[3])\n",
        "print(\"5. Critical Values :\")\n",
        "for key, val in dftest[4].items():\n",
        "    print(\"\\t\",key, \": \", val)"
      ]
    },
    {
      "cell_type": "raw",
      "metadata": {
        "id": "ELX8WEgcwFGy"
      },
      "source": [
        "P-value is higher for our dataset, and we can say that the evidence of rejecting the null hypothesis is low; hence the time series is non-stationary."
      ]
    },
    {
      "cell_type": "code",
      "execution_count": null,
      "metadata": {
        "id": "zjoWZte_PvLi"
      },
      "outputs": [],
      "source": [
        "## making it stationary by taking difference of 1\n",
        "\n",
        "data1 = data.diff(periods=1)"
      ]
    },
    {
      "cell_type": "code",
      "execution_count": null,
      "metadata": {
        "id": "haEe9XIXbzNm",
        "outputId": "c91a668f-6784-40d0-9dc1-97824670d524"
      },
      "outputs": [
        {
          "data": {
            "text/html": [
              "<div>\n",
              "<style scoped>\n",
              "    .dataframe tbody tr th:only-of-type {\n",
              "        vertical-align: middle;\n",
              "    }\n",
              "\n",
              "    .dataframe tbody tr th {\n",
              "        vertical-align: top;\n",
              "    }\n",
              "\n",
              "    .dataframe thead th {\n",
              "        text-align: right;\n",
              "    }\n",
              "</style>\n",
              "<table border=\"1\" class=\"dataframe\">\n",
              "  <thead>\n",
              "    <tr style=\"text-align: right;\">\n",
              "      <th></th>\n",
              "      <th>Passengers</th>\n",
              "    </tr>\n",
              "    <tr>\n",
              "      <th>Month</th>\n",
              "      <th></th>\n",
              "    </tr>\n",
              "  </thead>\n",
              "  <tbody>\n",
              "    <tr>\n",
              "      <th>1949-01-01</th>\n",
              "      <td>112</td>\n",
              "    </tr>\n",
              "    <tr>\n",
              "      <th>1949-02-01</th>\n",
              "      <td>118</td>\n",
              "    </tr>\n",
              "    <tr>\n",
              "      <th>1949-03-01</th>\n",
              "      <td>132</td>\n",
              "    </tr>\n",
              "    <tr>\n",
              "      <th>1949-04-01</th>\n",
              "      <td>129</td>\n",
              "    </tr>\n",
              "    <tr>\n",
              "      <th>1949-05-01</th>\n",
              "      <td>121</td>\n",
              "    </tr>\n",
              "    <tr>\n",
              "      <th>...</th>\n",
              "      <td>...</td>\n",
              "    </tr>\n",
              "    <tr>\n",
              "      <th>1960-08-01</th>\n",
              "      <td>606</td>\n",
              "    </tr>\n",
              "    <tr>\n",
              "      <th>1960-09-01</th>\n",
              "      <td>508</td>\n",
              "    </tr>\n",
              "    <tr>\n",
              "      <th>1960-10-01</th>\n",
              "      <td>461</td>\n",
              "    </tr>\n",
              "    <tr>\n",
              "      <th>1960-11-01</th>\n",
              "      <td>390</td>\n",
              "    </tr>\n",
              "    <tr>\n",
              "      <th>1960-12-01</th>\n",
              "      <td>432</td>\n",
              "    </tr>\n",
              "  </tbody>\n",
              "</table>\n",
              "<p>144 rows × 1 columns</p>\n",
              "</div>"
            ],
            "text/plain": [
              "            Passengers\n",
              "Month                 \n",
              "1949-01-01         112\n",
              "1949-02-01         118\n",
              "1949-03-01         132\n",
              "1949-04-01         129\n",
              "1949-05-01         121\n",
              "...                ...\n",
              "1960-08-01         606\n",
              "1960-09-01         508\n",
              "1960-10-01         461\n",
              "1960-11-01         390\n",
              "1960-12-01         432\n",
              "\n",
              "[144 rows x 1 columns]"
            ]
          },
          "execution_count": 40,
          "metadata": {},
          "output_type": "execute_result"
        }
      ],
      "source": [
        "data"
      ]
    },
    {
      "cell_type": "code",
      "execution_count": null,
      "metadata": {
        "id": "BN2HiWjDPvLk",
        "outputId": "4dd8ad33-1da1-48c1-81dd-2788712020d5"
      },
      "outputs": [
        {
          "data": {
            "text/html": [
              "<div>\n",
              "<style scoped>\n",
              "    .dataframe tbody tr th:only-of-type {\n",
              "        vertical-align: middle;\n",
              "    }\n",
              "\n",
              "    .dataframe tbody tr th {\n",
              "        vertical-align: top;\n",
              "    }\n",
              "\n",
              "    .dataframe thead th {\n",
              "        text-align: right;\n",
              "    }\n",
              "</style>\n",
              "<table border=\"1\" class=\"dataframe\">\n",
              "  <thead>\n",
              "    <tr style=\"text-align: right;\">\n",
              "      <th></th>\n",
              "      <th>Passengers</th>\n",
              "    </tr>\n",
              "    <tr>\n",
              "      <th>Month</th>\n",
              "      <th></th>\n",
              "    </tr>\n",
              "  </thead>\n",
              "  <tbody>\n",
              "    <tr>\n",
              "      <th>1949-01-01</th>\n",
              "      <td>NaN</td>\n",
              "    </tr>\n",
              "    <tr>\n",
              "      <th>1949-02-01</th>\n",
              "      <td>6.0</td>\n",
              "    </tr>\n",
              "    <tr>\n",
              "      <th>1949-03-01</th>\n",
              "      <td>14.0</td>\n",
              "    </tr>\n",
              "    <tr>\n",
              "      <th>1949-04-01</th>\n",
              "      <td>-3.0</td>\n",
              "    </tr>\n",
              "    <tr>\n",
              "      <th>1949-05-01</th>\n",
              "      <td>-8.0</td>\n",
              "    </tr>\n",
              "    <tr>\n",
              "      <th>...</th>\n",
              "      <td>...</td>\n",
              "    </tr>\n",
              "    <tr>\n",
              "      <th>1960-08-01</th>\n",
              "      <td>-16.0</td>\n",
              "    </tr>\n",
              "    <tr>\n",
              "      <th>1960-09-01</th>\n",
              "      <td>-98.0</td>\n",
              "    </tr>\n",
              "    <tr>\n",
              "      <th>1960-10-01</th>\n",
              "      <td>-47.0</td>\n",
              "    </tr>\n",
              "    <tr>\n",
              "      <th>1960-11-01</th>\n",
              "      <td>-71.0</td>\n",
              "    </tr>\n",
              "    <tr>\n",
              "      <th>1960-12-01</th>\n",
              "      <td>42.0</td>\n",
              "    </tr>\n",
              "  </tbody>\n",
              "</table>\n",
              "<p>144 rows × 1 columns</p>\n",
              "</div>"
            ],
            "text/plain": [
              "            Passengers\n",
              "Month                 \n",
              "1949-01-01         NaN\n",
              "1949-02-01         6.0\n",
              "1949-03-01        14.0\n",
              "1949-04-01        -3.0\n",
              "1949-05-01        -8.0\n",
              "...                ...\n",
              "1960-08-01       -16.0\n",
              "1960-09-01       -98.0\n",
              "1960-10-01       -47.0\n",
              "1960-11-01       -71.0\n",
              "1960-12-01        42.0\n",
              "\n",
              "[144 rows x 1 columns]"
            ]
          },
          "execution_count": 41,
          "metadata": {},
          "output_type": "execute_result"
        }
      ],
      "source": [
        "data1 # Series integrated to the order of 1"
      ]
    },
    {
      "cell_type": "code",
      "execution_count": null,
      "metadata": {
        "id": "VeJx92rCPvLl",
        "outputId": "c34d8f75-314e-4c03-ed25-dae0d8ce74ce"
      },
      "outputs": [
        {
          "data": {
            "text/html": [
              "<div>\n",
              "<style scoped>\n",
              "    .dataframe tbody tr th:only-of-type {\n",
              "        vertical-align: middle;\n",
              "    }\n",
              "\n",
              "    .dataframe tbody tr th {\n",
              "        vertical-align: top;\n",
              "    }\n",
              "\n",
              "    .dataframe thead th {\n",
              "        text-align: right;\n",
              "    }\n",
              "</style>\n",
              "<table border=\"1\" class=\"dataframe\">\n",
              "  <thead>\n",
              "    <tr style=\"text-align: right;\">\n",
              "      <th></th>\n",
              "      <th>Passengers</th>\n",
              "    </tr>\n",
              "    <tr>\n",
              "      <th>Month</th>\n",
              "      <th></th>\n",
              "    </tr>\n",
              "  </thead>\n",
              "  <tbody>\n",
              "    <tr>\n",
              "      <th>1949-02-01</th>\n",
              "      <td>6.0</td>\n",
              "    </tr>\n",
              "    <tr>\n",
              "      <th>1949-03-01</th>\n",
              "      <td>14.0</td>\n",
              "    </tr>\n",
              "    <tr>\n",
              "      <th>1949-04-01</th>\n",
              "      <td>-3.0</td>\n",
              "    </tr>\n",
              "    <tr>\n",
              "      <th>1949-05-01</th>\n",
              "      <td>-8.0</td>\n",
              "    </tr>\n",
              "    <tr>\n",
              "      <th>1949-06-01</th>\n",
              "      <td>14.0</td>\n",
              "    </tr>\n",
              "    <tr>\n",
              "      <th>...</th>\n",
              "      <td>...</td>\n",
              "    </tr>\n",
              "    <tr>\n",
              "      <th>1960-08-01</th>\n",
              "      <td>-16.0</td>\n",
              "    </tr>\n",
              "    <tr>\n",
              "      <th>1960-09-01</th>\n",
              "      <td>-98.0</td>\n",
              "    </tr>\n",
              "    <tr>\n",
              "      <th>1960-10-01</th>\n",
              "      <td>-47.0</td>\n",
              "    </tr>\n",
              "    <tr>\n",
              "      <th>1960-11-01</th>\n",
              "      <td>-71.0</td>\n",
              "    </tr>\n",
              "    <tr>\n",
              "      <th>1960-12-01</th>\n",
              "      <td>42.0</td>\n",
              "    </tr>\n",
              "  </tbody>\n",
              "</table>\n",
              "<p>143 rows × 1 columns</p>\n",
              "</div>"
            ],
            "text/plain": [
              "            Passengers\n",
              "Month                 \n",
              "1949-02-01         6.0\n",
              "1949-03-01        14.0\n",
              "1949-04-01        -3.0\n",
              "1949-05-01        -8.0\n",
              "1949-06-01        14.0\n",
              "...                ...\n",
              "1960-08-01       -16.0\n",
              "1960-09-01       -98.0\n",
              "1960-10-01       -47.0\n",
              "1960-11-01       -71.0\n",
              "1960-12-01        42.0\n",
              "\n",
              "[143 rows x 1 columns]"
            ]
          },
          "execution_count": 42,
          "metadata": {},
          "output_type": "execute_result"
        }
      ],
      "source": [
        "data1 = data1.iloc[1:] #null value discarded\n",
        "data1"
      ]
    },
    {
      "cell_type": "code",
      "execution_count": null,
      "metadata": {
        "colab": {
          "base_uri": "https://localhost:8080/",
          "height": 545
        },
        "id": "5XlNQ3DBPvLo",
        "outputId": "6bd337b5-0f7d-4350-ba8e-5b637186bf59"
      },
      "outputs": [
        {
          "data": {
            "image/png": "[encoded data removed]",
            "text/plain": [
              "<Figure size 640x480 with 1 Axes>"
            ]
          },
          "metadata": {},
          "output_type": "display_data"
        }
      ],
      "source": [
        "plot_acf(data1); # autocorrelation plot"
      ]
    },
    {
      "cell_type": "code",
      "execution_count": null,
      "metadata": {
        "id": "4mR4e0xdRlJ7"
      },
      "outputs": [],
      "source": [
        "data2=data1.diff(periods=1) # differencing applied to data1"
      ]
    },
    {
      "cell_type": "code",
      "execution_count": null,
      "metadata": {
        "id": "xdrnT4FyRsAJ"
      },
      "outputs": [],
      "source": [
        "data2=data2.iloc[1:] # integrated to the order of 2"
      ]
    },
    {
      "cell_type": "code",
      "execution_count": null,
      "metadata": {
        "colab": {
          "base_uri": "https://localhost:8080/",
          "height": 545
        },
        "id": "YEJGIQUxR3J3",
        "outputId": "e3a57be9-83c0-4dc3-9b20-972e02858113"
      },
      "outputs": [
        {
          "data": {
            "image/png": "[encoded data removed]",
            "text/plain": [
              "<Figure size 640x480 with 1 Axes>"
            ]
          },
          "metadata": {},
          "output_type": "display_data"
        }
      ],
      "source": [
        "plot_acf(data2)\n",
        "py.show()"
      ]
    },
    {
      "cell_type": "code",
      "execution_count": null,
      "metadata": {
        "colab": {
          "base_uri": "https://localhost:8080/"
        },
        "id": "A3WWQcHyR9lV",
        "outputId": "786e54ae-f817-4d5a-bee7-2327d76c0933"
      },
      "outputs": [
        {
          "data": {
            "text/plain": [
              "(142, 1)"
            ]
          },
          "execution_count": 47,
          "metadata": {},
          "output_type": "execute_result"
        }
      ],
      "source": [
        "data2.shape#shape of the data rows and columns"
      ]
    },
    {
      "cell_type": "code",
      "execution_count": null,
      "metadata": {
        "id": "ClpJvi2ubzNp"
      },
      "outputs": [],
      "source": [
        "import warnings\n",
        "warnings.filterwarnings('ignore')"
      ]
    },
    {
      "cell_type": "code",
      "execution_count": null,
      "metadata": {
        "id": "GizBW8qybzNq"
      },
      "outputs": [],
      "source": []
    },
    {
      "cell_type": "code",
      "execution_count": null,
      "metadata": {
        "id": "KIPKkmWuPvLu"
      },
      "outputs": [],
      "source": [
        "## Creating training and test sets\n",
        "train = data2[:100] #from 0th row to 99th row - traning data\n",
        "test = data2[100:] #from 100th row to end - testing data"
      ]
    },
    {
      "cell_type": "code",
      "execution_count": null,
      "metadata": {
        "colab": {
          "base_uri": "https://localhost:8080/"
        },
        "id": "GL3_ryBwPvLv",
        "outputId": "8f8ea99e-0d04-49cd-aaa7-ba7d44c12e9f"
      },
      "outputs": [
        {
          "name": "stdout",
          "output_type": "stream",
          "text": [
            "<class 'pandas.core.frame.DataFrame'>\n",
            "DatetimeIndex: 100 entries, 1949-03-01 to 1957-06-01\n",
            "Data columns (total 1 columns):\n",
            " #   Column      Non-Null Count  Dtype  \n",
            "---  ------      --------------  -----  \n",
            " 0   Passengers  100 non-null    float64\n",
            "dtypes: float64(1)\n",
            "memory usage: 1.6 KB\n"
          ]
        }
      ],
      "source": [
        "train.info()#info about datatype and null value"
      ]
    },
    {
      "cell_type": "code",
      "execution_count": null,
      "metadata": {
        "id": "5AWdcKYzijG1"
      },
      "outputs": [],
      "source": [
        "#pip install statsmodels"
      ]
    },
    {
      "cell_type": "code",
      "execution_count": null,
      "metadata": {
        "id": "fstrV3-VwFG5"
      },
      "outputs": [],
      "source": [
        "## Applying autoregressive model\n",
        "#from statsmodels.tsa.ar_model import AR\n",
        "##from statsmodels.tsa.ar_model import AutoReg\n",
        "\n",
        "from statsmodels.tsa.ar_model import AutoReg"
      ]
    },
    {
      "cell_type": "code",
      "execution_count": null,
      "metadata": {
        "id": "1HWUcZt6PvLx",
        "outputId": "d13a9c21-9506-4665-a5cf-ef0531b8ccf1"
      },
      "outputs": [
        {
          "data": {
            "text/plain": [
              "[1, 2, 3, 4, 5, 6, 7, 8, 9, 10, 11, 12]"
            ]
          },
          "execution_count": 53,
          "metadata": {},
          "output_type": "execute_result"
        }
      ],
      "source": [
        "\n",
        "#ar_select_order : gives the best lags ordered as an array\n",
        "\n",
        "# to select the optimal values for lags\n",
        "from statsmodels.tsa.ar_model import ar_select_order\n",
        "\n",
        "mod = ar_select_order(data2,maxlag=15,glob=True)\n",
        "mod.ar_lags\n",
        "\n",
        "# select_order: selects the best number of lags\n",
        "# maxlag: The maximum lag to consider\n",
        "# glob: global search across all combinations of lags"
      ]
    },
    {
      "cell_type": "code",
      "execution_count": null,
      "metadata": {
        "id": "WKkqBQlqPvLx"
      },
      "outputs": [],
      "source": [
        "## model creation\n",
        "ar_model = AutoReg(train,lags=[1, 2, 3, 4, 5, 6, 7, 8, 9, 10, 11, 12]) ## object creation with lags specified\n",
        "ar_model_fit = ar_model.fit() #training the model"
      ]
    },
    {
      "cell_type": "code",
      "execution_count": null,
      "metadata": {
        "id": "NVcfHeDxPvLy"
      },
      "outputs": [],
      "source": [
        "##making prediction\n",
        "prediction = ar_model_fit.predict(start = 100,end = 141)"
      ]
    },
    {
      "cell_type": "code",
      "execution_count": null,
      "metadata": {
        "id": "WoOxbTXwbzNt",
        "outputId": "a3ff4ec9-c6ef-41fb-927a-aedebc031c2a"
      },
      "outputs": [
        {
          "data": {
            "text/plain": [
              "42"
            ]
          },
          "execution_count": 56,
          "metadata": {},
          "output_type": "execute_result"
        }
      ],
      "source": [
        "len(test)"
      ]
    },
    {
      "cell_type": "code",
      "execution_count": null,
      "metadata": {
        "id": "OuEfeG8ObzNt",
        "outputId": "bb89994e-eda8-4bc4-ba9c-1e90de2d73d2"
      },
      "outputs": [
        {
          "data": {
            "text/plain": [
              "42"
            ]
          },
          "execution_count": 57,
          "metadata": {},
          "output_type": "execute_result"
        }
      ],
      "source": [
        "len(prediction)"
      ]
    },
    {
      "cell_type": "code",
      "execution_count": null,
      "metadata": {
        "id": "lfHqBxzpbzNu",
        "outputId": "122b9373-f4fb-41ef-9f0d-601e8d1c5a5b"
      },
      "outputs": [
        {
          "name": "stdout",
          "output_type": "stream",
          "text": [
            "1957-07-01   -26.325761\n",
            "1957-08-01   -51.184110\n",
            "1957-09-01   -43.959992\n",
            "1957-10-01    -6.363909\n",
            "1957-11-01    24.061033\n",
            "1957-12-01    75.324375\n",
            "1958-01-01   -30.525575\n",
            "1958-02-01   -20.698153\n",
            "1958-03-01    67.089284\n",
            "1958-04-01   -56.564573\n",
            "1958-05-01    13.377346\n",
            "1958-06-01    66.337091\n",
            "1958-07-01   -33.772981\n",
            "1958-08-01   -58.228155\n",
            "1958-09-01   -45.055018\n",
            "1958-10-01   -14.690154\n",
            "1958-11-01    35.370293\n",
            "1958-12-01    80.696719\n",
            "1959-01-01   -34.541873\n",
            "1959-02-01   -19.600193\n",
            "1959-03-01    67.142411\n",
            "1959-04-01   -51.386197\n",
            "1959-05-01    14.330762\n",
            "1959-06-01    71.079740\n",
            "1959-07-01   -41.567386\n",
            "1959-08-01   -66.313619\n",
            "1959-09-01   -47.008369\n",
            "1959-10-01   -22.589679\n",
            "1959-11-01    46.865050\n",
            "1959-12-01    87.112502\n",
            "1960-01-01   -38.965689\n",
            "1960-02-01   -18.788673\n",
            "1960-03-01    68.371352\n",
            "1960-04-01   -46.488704\n",
            "1960-05-01    17.168608\n",
            "1960-06-01    74.840922\n",
            "1960-07-01   -50.438749\n",
            "1960-08-01   -75.197337\n",
            "1960-09-01   -50.102526\n",
            "1960-10-01   -29.954777\n",
            "1960-11-01    58.602494\n",
            "1960-12-01    94.599063\n",
            "Freq: MS, dtype: float64\n"
          ]
        }
      ],
      "source": [
        "print(prediction)"
      ]
    },
    {
      "cell_type": "code",
      "execution_count": null,
      "metadata": {
        "id": "mVBBNbDAbzNu",
        "outputId": "9e02449c-c070-4d6e-a549-2e9d5a36a598"
      },
      "outputs": [
        {
          "name": "stdout",
          "output_type": "stream",
          "text": [
            "            Passengers\n",
            "Month                 \n",
            "1957-07-01       -24.0\n",
            "1957-08-01       -41.0\n",
            "1957-09-01       -65.0\n",
            "1957-10-01         6.0\n",
            "1957-11-01        15.0\n",
            "1957-12-01        73.0\n",
            "1958-01-01       -27.0\n",
            "1958-02-01       -26.0\n",
            "1958-03-01        66.0\n",
            "1958-04-01       -58.0\n",
            "1958-05-01        29.0\n",
            "1958-06-01        57.0\n",
            "1958-07-01       -16.0\n",
            "1958-08-01       -42.0\n",
            "1958-09-01      -115.0\n",
            "1958-10-01        56.0\n",
            "1958-11-01        -4.0\n",
            "1958-12-01        76.0\n",
            "1959-01-01        -4.0\n",
            "1959-02-01       -41.0\n",
            "1959-03-01        82.0\n",
            "1959-04-01       -74.0\n",
            "1959-05-01        34.0\n",
            "1959-06-01        28.0\n",
            "1959-07-01        24.0\n",
            "1959-08-01       -65.0\n",
            "1959-09-01      -107.0\n",
            "1959-10-01        40.0\n",
            "1959-11-01        11.0\n",
            "1959-12-01        88.0\n",
            "1960-01-01       -31.0\n",
            "1960-02-01       -38.0\n",
            "1960-03-01        54.0\n",
            "1960-04-01        14.0\n",
            "1960-05-01       -31.0\n",
            "1960-06-01        52.0\n",
            "1960-07-01        24.0\n",
            "1960-08-01      -103.0\n",
            "1960-09-01       -82.0\n",
            "1960-10-01        51.0\n",
            "1960-11-01       -24.0\n",
            "1960-12-01       113.0\n"
          ]
        }
      ],
      "source": [
        "print(test)"
      ]
    },
    {
      "cell_type": "code",
      "execution_count": null,
      "metadata": {
        "colab": {
          "base_uri": "https://localhost:8080/",
          "height": 282
        },
        "id": "y8-NWfqmPvL0",
        "outputId": "943af8c4-a8da-4474-c76a-bc938bf7f17f"
      },
      "outputs": [
        {
          "data": {
            "image/png": "[encoded data removed]",
            "text/plain": [
              "<Figure size 640x480 with 1 Axes>"
            ]
          },
          "metadata": {},
          "output_type": "display_data"
        }
      ],
      "source": [
        "import matplotlib.pyplot as plt\n",
        "\n",
        "plt.plot(test)\n",
        "plt.plot(prediction,color='green') #graph of test vs prediction\n",
        "plt.show()"
      ]
    },
    {
      "cell_type": "markdown",
      "metadata": {
        "id": "dUAIFS4XPvL2"
      },
      "source": [
        "## ARIMA Model"
      ]
    },
    {
      "cell_type": "code",
      "execution_count": null,
      "metadata": {
        "id": "6grnmWvDPvL3"
      },
      "outputs": [],
      "source": [
        "## importing the library\n",
        "from statsmodels.tsa.arima.model import ARIMA"
      ]
    },
    {
      "cell_type": "code",
      "execution_count": null,
      "metadata": {
        "id": "PQw4qA9WPvL4"
      },
      "outputs": [],
      "source": [
        "##Model object creation and fitting the model\n",
        "model_arima = ARIMA(train, order=(1,0,1))#order= p,d,q\n",
        "\n",
        "model_arima_fit = model_arima.fit()#training"
      ]
    },
    {
      "cell_type": "code",
      "execution_count": null,
      "metadata": {
        "id": "iGMDgYi9bzNw"
      },
      "outputs": [],
      "source": [
        "## predicting the output of sample points\n",
        "predictions = model_arima_fit.forecast(steps=9)"
      ]
    },
    {
      "cell_type": "code",
      "execution_count": null,
      "metadata": {
        "collapsed": true,
        "id": "igtniTkGbzNw",
        "outputId": "8d081c77-8326-422c-80f8-8686b8b2fd9c"
      },
      "outputs": [
        {
          "data": {
            "text/plain": [
              "1957-07-01    126.331477\n",
              "1957-08-01    180.751353\n",
              "1957-09-01    243.599628\n",
              "1957-10-01    302.431137\n",
              "1957-11-01    364.860538\n",
              "1957-12-01    426.228751\n",
              "1958-01-01    489.386465\n",
              "1958-02-01    552.589467\n",
              "1958-03-01    616.904966\n",
              "Freq: MS, Name: predicted_mean, dtype: float64"
            ]
          },
          "execution_count": 99,
          "metadata": {},
          "output_type": "execute_result"
        }
      ],
      "source": [
        "predictions"
      ]
    },
    {
      "cell_type": "code",
      "execution_count": null,
      "metadata": {
        "id": "XKl1nsJPbzNw",
        "outputId": "4d7865a1-c0bc-4c76-ea24-824765225cf3"
      },
      "outputs": [
        {
          "data": {
            "text/plain": [
              "[<matplotlib.lines.Line2D at 0x196f5488080>]"
            ]
          },
          "execution_count": 100,
          "metadata": {},
          "output_type": "execute_result"
        },
        {
          "data": {
            "image/png": "[encoded data removed]",
            "text/plain": [
              "<Figure size 640x480 with 1 Axes>"
            ]
          },
          "metadata": {},
          "output_type": "display_data"
        }
      ],
      "source": [
        "plt.plot(test[:9])\n",
        "plt.plot(predictions,color='green')"
      ]
    },
    {
      "cell_type": "code",
      "execution_count": null,
      "metadata": {
        "id": "SMDSPv2BbzNx"
      },
      "outputs": [],
      "source": []
    },
    {
      "cell_type": "code",
      "execution_count": null,
      "metadata": {
        "id": "Y3qSZKvibzNx"
      },
      "outputs": [],
      "source": []
    },
    {
      "cell_type": "markdown",
      "metadata": {
        "id": "POdnNyJuwFG7"
      },
      "source": [
        "Akaike Information Criteria (AIC):\n",
        "\n",
        "AIC is an estimator of prediction error which measures a statistical model in order to quantify the goodness of fit of the model. While comparing two models, the smaller the AIC value, the better the time series model.\n",
        "\n",
        "![image.png](attachment:image.png)\n",
        "K: The number of model parameters.\n",
        "ln(L): The log-likelihood of the model. This tells us how likely the model is, given the data.\n",
        "\n",
        "\n",
        "AIC uses a model’s maximum likelihood estimation (log-likelihood) as a measure of fit. Log-likelihood is a measure of how likely one is to see their observed data, given a model. The model with the maximum likelihood is the one that “fits” the data the best. The natural log of the likelihood is used as a computational convenience.\n",
        "\n",
        "AIC is low for models with high log-likelihoods. This means the model fits the data better, which is what we want.\n",
        "\n",
        "Once you’ve fit several regression models, you can compare the AIC value of each model. The model with the lowest AIC offers the best fit.\n",
        "\n",
        "There is no value for AIC that can be considered “good” or “bad” because we simply use AIC as a way to compare regression models. The model with the lowest AIC offers the best fit. The absolute value of the AIC value is not important."
      ]
    },
    {
      "cell_type": "code",
      "execution_count": null,
      "metadata": {
        "colab": {
          "base_uri": "https://localhost:8080/"
        },
        "id": "HyFAfAsYPvL5",
        "outputId": "fceabeac-2b6f-4760-c3e3-e85ef6e5888b"
      },
      "outputs": [
        {
          "name": "stdout",
          "output_type": "stream",
          "text": [
            "1096.1395155113237\n"
          ]
        }
      ],
      "source": [
        "## evaluate the model\n",
        "print(model_arima_fit.aic)  # Less - Good model\n",
        "                            # High - Bad model"
      ]
    },
    {
      "cell_type": "code",
      "execution_count": null,
      "metadata": {
        "id": "9gO1VvnTbzNy"
      },
      "outputs": [],
      "source": []
    },
    {
      "cell_type": "code",
      "execution_count": null,
      "metadata": {
        "id": "xXjc4bN1PvL-",
        "outputId": "7155f2a6-ca4a-44be-f2e5-f0a1ca2813a1",
        "scrolled": true
      },
      "outputs": [
        {
          "data": {
            "text/plain": [
              "[(0, 0, 0),\n",
              " (0, 0, 1),\n",
              " (0, 0, 2),\n",
              " (0, 0, 3),\n",
              " (0, 0, 4),\n",
              " (0, 1, 0),\n",
              " (0, 1, 1),\n",
              " (0, 1, 2),\n",
              " (0, 1, 3),\n",
              " (0, 1, 4),\n",
              " (0, 2, 0),\n",
              " (0, 2, 1),\n",
              " (0, 2, 2),\n",
              " (0, 2, 3),\n",
              " (0, 2, 4),\n",
              " (0, 3, 0),\n",
              " (0, 3, 1),\n",
              " (0, 3, 2),\n",
              " (0, 3, 3),\n",
              " (0, 3, 4),\n",
              " (0, 4, 0),\n",
              " (0, 4, 1),\n",
              " (0, 4, 2),\n",
              " (0, 4, 3),\n",
              " (0, 4, 4),\n",
              " (1, 0, 0),\n",
              " (1, 0, 1),\n",
              " (1, 0, 2),\n",
              " (1, 0, 3),\n",
              " (1, 0, 4),\n",
              " (1, 1, 0),\n",
              " (1, 1, 1),\n",
              " (1, 1, 2),\n",
              " (1, 1, 3),\n",
              " (1, 1, 4),\n",
              " (1, 2, 0),\n",
              " (1, 2, 1),\n",
              " (1, 2, 2),\n",
              " (1, 2, 3),\n",
              " (1, 2, 4),\n",
              " (1, 3, 0),\n",
              " (1, 3, 1),\n",
              " (1, 3, 2),\n",
              " (1, 3, 3),\n",
              " (1, 3, 4),\n",
              " (1, 4, 0),\n",
              " (1, 4, 1),\n",
              " (1, 4, 2),\n",
              " (1, 4, 3),\n",
              " (1, 4, 4),\n",
              " (2, 0, 0),\n",
              " (2, 0, 1),\n",
              " (2, 0, 2),\n",
              " (2, 0, 3),\n",
              " (2, 0, 4),\n",
              " (2, 1, 0),\n",
              " (2, 1, 1),\n",
              " (2, 1, 2),\n",
              " (2, 1, 3),\n",
              " (2, 1, 4),\n",
              " (2, 2, 0),\n",
              " (2, 2, 1),\n",
              " (2, 2, 2),\n",
              " (2, 2, 3),\n",
              " (2, 2, 4),\n",
              " (2, 3, 0),\n",
              " (2, 3, 1),\n",
              " (2, 3, 2),\n",
              " (2, 3, 3),\n",
              " (2, 3, 4),\n",
              " (2, 4, 0),\n",
              " (2, 4, 1),\n",
              " (2, 4, 2),\n",
              " (2, 4, 3),\n",
              " (2, 4, 4),\n",
              " (3, 0, 0),\n",
              " (3, 0, 1),\n",
              " (3, 0, 2),\n",
              " (3, 0, 3),\n",
              " (3, 0, 4),\n",
              " (3, 1, 0),\n",
              " (3, 1, 1),\n",
              " (3, 1, 2),\n",
              " (3, 1, 3),\n",
              " (3, 1, 4),\n",
              " (3, 2, 0),\n",
              " (3, 2, 1),\n",
              " (3, 2, 2),\n",
              " (3, 2, 3),\n",
              " (3, 2, 4),\n",
              " (3, 3, 0),\n",
              " (3, 3, 1),\n",
              " (3, 3, 2),\n",
              " (3, 3, 3),\n",
              " (3, 3, 4),\n",
              " (3, 4, 0),\n",
              " (3, 4, 1),\n",
              " (3, 4, 2),\n",
              " (3, 4, 3),\n",
              " (3, 4, 4),\n",
              " (4, 0, 0),\n",
              " (4, 0, 1),\n",
              " (4, 0, 2),\n",
              " (4, 0, 3),\n",
              " (4, 0, 4),\n",
              " (4, 1, 0),\n",
              " (4, 1, 1),\n",
              " (4, 1, 2),\n",
              " (4, 1, 3),\n",
              " (4, 1, 4),\n",
              " (4, 2, 0),\n",
              " (4, 2, 1),\n",
              " (4, 2, 2),\n",
              " (4, 2, 3),\n",
              " (4, 2, 4),\n",
              " (4, 3, 0),\n",
              " (4, 3, 1),\n",
              " (4, 3, 2),\n",
              " (4, 3, 3),\n",
              " (4, 3, 4),\n",
              " (4, 4, 0),\n",
              " (4, 4, 1),\n",
              " (4, 4, 2),\n",
              " (4, 4, 3),\n",
              " (4, 4, 4)]"
            ]
          },
          "execution_count": 102,
          "metadata": {},
          "output_type": "execute_result"
        }
      ],
      "source": [
        "## Geeting the optimal values of p,q an d\n",
        "import itertools\n",
        "\n",
        "p =d= q=range(0,5) #values of p,d,q range from 0 to 4\n",
        "\n",
        "pdq = list(itertools.product(p,d,q))\n",
        "# is used to find the cartesian product from the given iterator, output is lexicographic ordered.\n",
        "pdq #number of combinaton of pdq"
      ]
    },
    {
      "cell_type": "code",
      "execution_count": null,
      "metadata": {
        "id": "PS0PbCjVbzNz"
      },
      "outputs": [],
      "source": []
    },
    {
      "cell_type": "code",
      "execution_count": null,
      "metadata": {
        "id": "aPeUUBlIbzNz",
        "outputId": "1b5cd967-b46b-44c5-b89e-3a1cffefffc0"
      },
      "outputs": [
        {
          "ename": "ZeroDivisionError",
          "evalue": "division by zero",
          "output_type": "error",
          "traceback": [
            "\u001b[1;31m---------------------------------------------------------------------------\u001b[0m",
            "\u001b[1;31mZeroDivisionError\u001b[0m                         Traceback (most recent call last)",
            "Cell \u001b[1;32mIn[138], line 3\u001b[0m\n\u001b[0;32m      1\u001b[0m x \u001b[38;5;241m=\u001b[39m \u001b[38;5;241m5\u001b[39m\n\u001b[0;32m      2\u001b[0m \u001b[38;5;28;01mif\u001b[39;00m x\u001b[38;5;241m==\u001b[39m\u001b[38;5;241m5\u001b[39m:\n\u001b[1;32m----> 3\u001b[0m     \u001b[38;5;28mprint\u001b[39m(\u001b[38;5;241;43m2\u001b[39;49m\u001b[38;5;241;43m/\u001b[39;49m\u001b[38;5;241;43m0\u001b[39;49m)\n\u001b[0;32m      4\u001b[0m \u001b[38;5;28;01melse\u001b[39;00m:\n\u001b[0;32m      5\u001b[0m     \u001b[38;5;28mprint\u001b[39m(\u001b[38;5;124m'\u001b[39m\u001b[38;5;124merror\u001b[39m\u001b[38;5;124m'\u001b[39m)\n",
            "\u001b[1;31mZeroDivisionError\u001b[0m: division by zero"
          ]
        }
      ],
      "source": [
        "x = 5\n",
        "if x==5:\n",
        "    print(2/0)\n",
        "else:\n",
        "    print('error')"
      ]
    },
    {
      "cell_type": "code",
      "execution_count": null,
      "metadata": {
        "id": "sDijHrEobzNz",
        "outputId": "79d2bf88-da16-4001-ee73-72bdb641cfe8"
      },
      "outputs": [
        {
          "name": "stdout",
          "output_type": "stream",
          "text": [
            "error\n"
          ]
        }
      ],
      "source": [
        "try:\n",
        "    print(2/0)\n",
        "except:\n",
        "    print('error')"
      ]
    },
    {
      "cell_type": "code",
      "execution_count": null,
      "metadata": {
        "id": "R1a12QbPwFG8",
        "outputId": "4b938783-ed13-49ef-f2ab-6e55d21b2d5d"
      },
      "outputs": [
        {
          "name": "stdout",
          "output_type": "stream",
          "text": [
            "(0, 0, 0) 967.9135518309452\n",
            "(0, 0, 1) 931.4372813348402\n",
            "(0, 0, 2) 925.7296662408326\n",
            "(0, 0, 3) 920.9009363122956\n",
            "(0, 0, 4) 912.6571518931745\n",
            "(0, 1, 0) 1046.731900142016\n",
            "(0, 1, 1) 963.8739371065819\n",
            "(0, 1, 2) 933.2130511003795\n",
            "(0, 1, 3) 926.5735545006821\n",
            "(0, 1, 4) 924.3113511403847\n",
            "(0, 2, 0) 1143.9983209809495\n",
            "(0, 2, 1) 1043.7570583486154\n",
            "(0, 2, 2) 966.1636088523544\n",
            "(0, 2, 3) 941.6103613314577\n",
            "(0, 2, 4) 933.7562515716156\n",
            "(0, 3, 0) 1247.20709797673\n",
            "(0, 3, 1) 1139.8659460220663\n",
            "(0, 3, 2) 1044.647155129623\n",
            "(0, 3, 3) 972.3660660266833\n",
            "(0, 3, 4) 955.4006763401934\n",
            "(0, 4, 0) 1351.0676097034006\n",
            "(0, 4, 1) 1241.6050826070268\n",
            "(0, 4, 2) 1139.2023371574542\n",
            "(0, 4, 3) 1048.6652304430295\n",
            "(0, 4, 4) 987.2969335232613\n",
            "(1, 0, 0) 963.012796145017\n",
            "(1, 0, 1) 928.707756160386\n",
            "(1, 0, 2) 919.868536764538\n",
            "(1, 0, 3) 921.8388137944171\n",
            "(1, 0, 4) 923.3886062643759\n",
            "(1, 1, 0) 1021.0396389673773\n",
            "(1, 1, 1) 959.4979665771777\n",
            "(1, 1, 2) 962.9514176510604\n",
            "(1, 1, 3) 923.2263448497102\n",
            "(1, 1, 4) 923.1013734291543\n",
            "(1, 2, 0) 1098.8738469116902\n",
            "(1, 2, 1) 1019.1218015541301\n",
            "(1, 2, 2) 962.4933634803077\n",
            "(1, 2, 3) 965.1462480348837\n",
            "(1, 2, 4) 931.240729211222\n",
            "(1, 3, 0) 1186.5053670162915\n",
            "(1, 3, 1) 1096.1395155113237\n",
            "(1, 3, 2) 1021.3161814724641\n",
            "(1, 3, 3) 1048.4476950490928\n",
            "(1, 3, 4) 971.2000295472712\n",
            "(1, 4, 0) 1279.6340971684149\n",
            "(1, 4, 1) 1182.4415145949363\n",
            "(1, 4, 2) 1096.9076526373524\n",
            "(1, 4, 3) 1141.7606683832519\n",
            "(1, 4, 4) 1050.0994497564425\n",
            "(2, 0, 0) 951.2134496277085\n",
            "(2, 0, 1) 926.7745524271623\n",
            "(2, 0, 2) 921.8448970163615\n",
            "(2, 0, 3) 923.4339327759401\n",
            "(2, 0, 4) 907.3464158116495\n",
            "(2, 1, 0) 987.8554910217126\n",
            "(2, 1, 1) 948.4595247246604\n",
            "(2, 1, 2) 948.2072907475524\n",
            "(2, 1, 3) 924.3433022560118\n",
            "(2, 1, 4) 920.4699573558988\n",
            "(2, 2, 0) 1042.4341331127212\n",
            "(2, 2, 1) 987.196917057413\n",
            "(2, 2, 2) 952.5022313455031\n",
            "(2, 2, 3) 955.5750782014883\n",
            "(2, 2, 4) 961.3103094004813\n",
            "(2, 3, 0) 1112.0638834736692\n",
            "(2, 3, 1) 1041.3775809332533\n",
            "(2, 3, 2) 991.0086376825247\n",
            "(2, 3, 3) 960.9202966622479\n",
            "(2, 3, 4) 963.0568110505897\n",
            "(2, 4, 0) 1192.610973120066\n",
            "(2, 4, 1) 1109.8713350000235\n",
            "(2, 4, 2) 1044.134996240065\n",
            "(2, 4, 3) 998.3857749606738\n",
            "(2, 4, 4) 1017.8946711714023\n",
            "(3, 0, 0) 953.1213128116246\n",
            "(3, 0, 1) 928.7783158644504\n",
            "(3, 0, 2) 923.5861503657442\n",
            "(3, 0, 3) 925.4068400388206\n",
            "(3, 0, 4) 908.9419274194197\n",
            "(3, 1, 0) 988.127045740286\n",
            "(3, 1, 1) 950.4173558522377\n",
            "(3, 1, 2) 947.4292748106345\n",
            "(3, 1, 3) 925.6993667397976\n",
            "(3, 1, 4) 917.3601317017502\n",
            "(3, 2, 0) 1035.9653947025245\n",
            "(3, 2, 1) 987.7213009077143\n",
            "(3, 2, 2) 988.3429756408211\n",
            "(3, 2, 3) 951.6950503371193\n",
            "(3, 2, 4) 956.1130139650645\n",
            "(3, 3, 0) 1092.0403291467824\n",
            "(3, 3, 1) 1035.4895473745041\n",
            "(3, 3, 2) 991.8397923147344\n",
            "(3, 3, 3) 992.2157839125983\n",
            "(3, 3, 4) 960.0179830625391\n",
            "(3, 4, 0) 1157.4666167735754\n",
            "(3, 4, 1) 1090.8328798544926\n",
            "(3, 4, 2) 1038.9356895365668\n",
            "(3, 4, 3) 1046.4818068988532\n",
            "(3, 4, 4) 999.4139397175514\n",
            "(4, 0, 0) 938.2795905978082\n",
            "(4, 0, 1) 918.2879118348253\n",
            "(4, 0, 2) 919.7069493938062\n",
            "(4, 0, 3) 904.9117991536791\n",
            "(4, 0, 4) 906.8299697320934\n",
            "(4, 1, 0) 975.7694853871894\n",
            "(4, 1, 1) 936.4163375318815\n",
            "(4, 1, 2) 921.162584609676\n",
            "(4, 1, 3) 925.5449700091654\n",
            "(4, 1, 4) 920.243443813626\n",
            "(4, 2, 0) 1026.5680206707916\n",
            "(4, 2, 1) 976.1403584513553\n",
            "(4, 2, 2) 941.5077174261338\n",
            "(4, 2, 3) 979.4354951899423\n",
            "(4, 2, 4) 960.7691850967218\n",
            "(4, 3, 0) 1078.6057399539352\n",
            "(4, 3, 1) 1026.7742645213734\n",
            "(4, 3, 2) 981.3143344724394\n",
            "(4, 3, 3) 1028.3799605841223\n",
            "(4, 3, 4) 986.7383038887331\n",
            "(4, 4, 0) 1132.8807846678044\n",
            "(4, 4, 1) 1078.2001450524244\n",
            "(4, 4, 2) 1030.9289750924934\n",
            "(4, 4, 3) 1037.2413003029017\n",
            "(4, 4, 4) 999.1192195402609\n"
          ]
        }
      ],
      "source": [
        "##The Python try… except statement catches an exception. It is used to test code for an error which is written in the “try” statement.\n",
        "#If an error is encountered, the contents of the “except” block are run.\n",
        "list1=[]\n",
        "list2=[]\n",
        "\n",
        "for params in pdq: #iterating params over pdq\n",
        "    try:\n",
        "        model_arima = ARIMA(train, order=params)#training model on various pdq values\n",
        "        model_arima_fit = model_arima.fit()#training\n",
        "        print(params, model_arima_fit.aic)#printing parameter and aic values\n",
        "        list1.append(params)\n",
        "        list2.append(model_arima_fit.aic)\n",
        "    except:\n",
        "        continue"
      ]
    },
    {
      "cell_type": "code",
      "execution_count": null,
      "metadata": {
        "id": "B34_Kx8hwFG9",
        "outputId": "271f425b-511e-4788-dc29-a853df81329b"
      },
      "outputs": [
        {
          "data": {
            "text/plain": [
              "904.9117991536791"
            ]
          },
          "execution_count": 104,
          "metadata": {},
          "output_type": "execute_result"
        }
      ],
      "source": [
        "min(list2)  # lowest aic score"
      ]
    },
    {
      "cell_type": "code",
      "execution_count": null,
      "metadata": {
        "id": "8YlMIOmjbzN1",
        "outputId": "7425e388-9033-4e7f-f629-d180dc2cbde8"
      },
      "outputs": [
        {
          "data": {
            "text/plain": [
              "103"
            ]
          },
          "execution_count": 105,
          "metadata": {},
          "output_type": "execute_result"
        }
      ],
      "source": [
        "list2.index(min(list2))"
      ]
    },
    {
      "cell_type": "code",
      "execution_count": null,
      "metadata": {
        "id": "L32TF7cawFG-",
        "outputId": "e4d77236-c2c6-4981-cccd-80597a8348e4"
      },
      "outputs": [
        {
          "data": {
            "text/plain": [
              "(4, 0, 3)"
            ]
          },
          "execution_count": 106,
          "metadata": {},
          "output_type": "execute_result"
        }
      ],
      "source": [
        "# pdq corresponding to lowest aic\n",
        "loc = list2.index(min(list2))\n",
        "\n",
        "list1[loc]"
      ]
    },
    {
      "cell_type": "code",
      "execution_count": null,
      "metadata": {
        "id": "FCOOPfTWbzN1",
        "outputId": "4714cb16-4c26-435a-82cb-83a6c6199e96"
      },
      "outputs": [
        {
          "data": {
            "text/plain": [
              "103"
            ]
          },
          "execution_count": 107,
          "metadata": {},
          "output_type": "execute_result"
        }
      ],
      "source": [
        "loc"
      ]
    },
    {
      "cell_type": "code",
      "execution_count": null,
      "metadata": {
        "id": "2PL5xhE-PvMA",
        "scrolled": true
      },
      "outputs": [],
      "source": [
        "## create the final model with lowest aic score parameter\n",
        "model_arima = ARIMA(train, order=(4, 0, 3))\n",
        "\n",
        "model_arima_fit = model_arima.fit() #training"
      ]
    },
    {
      "cell_type": "code",
      "execution_count": null,
      "metadata": {
        "colab": {
          "base_uri": "https://localhost:8080/"
        },
        "id": "Zqx0lDWjPvMC",
        "outputId": "bba91f10-a63e-4cf7-ca49-e5b67daba04a"
      },
      "outputs": [
        {
          "name": "stdout",
          "output_type": "stream",
          "text": [
            "904.9117991536791\n"
          ]
        }
      ],
      "source": [
        "print(model_arima_fit.aic) # confirm aic score"
      ]
    },
    {
      "cell_type": "code",
      "execution_count": null,
      "metadata": {
        "id": "ah072jzpwFG_"
      },
      "outputs": [],
      "source": [
        "forecast25 = model_arima_fit.forecast(steps=25)\n"
      ]
    },
    {
      "cell_type": "code",
      "execution_count": null,
      "metadata": {
        "scrolled": true,
        "id": "Zb5xBISQbzN2"
      },
      "outputs": [],
      "source": [
        "forecast25"
      ]
    },
    {
      "cell_type": "code",
      "execution_count": null,
      "metadata": {
        "colab": {
          "base_uri": "https://localhost:8080/",
          "height": 283
        },
        "id": "ziHRfC56wFG_",
        "outputId": "41606b9e-6b82-43ce-aff0-0467e751013e"
      },
      "outputs": [
        {
          "data": {
            "text/plain": [
              "[<matplotlib.lines.Line2D at 0x196f54f6000>]"
            ]
          },
          "execution_count": 111,
          "metadata": {},
          "output_type": "execute_result"
        },
        {
          "data": {
            "image/png": "[encoded data removed]",
            "text/plain": [
              "<Figure size 640x480 with 1 Axes>"
            ]
          },
          "metadata": {},
          "output_type": "display_data"
        }
      ],
      "source": [
        "# Comparision of actual vs predicted for 25 values\n",
        "plt.plot(test[:25])\n",
        "plt.plot(forecast25,color='green') #line plot for prediction"
      ]
    },
    {
      "cell_type": "code",
      "execution_count": null,
      "metadata": {
        "id": "A7Tgy9zebzN3"
      },
      "outputs": [],
      "source": []
    },
    {
      "cell_type": "code",
      "execution_count": null,
      "metadata": {
        "id": "sXkdy0-gbzN4",
        "outputId": "2cf08d47-2e82-4088-cb94-a5affd4a9745"
      },
      "outputs": [
        {
          "data": {
            "text/plain": [
              "array([ -24.,  -41.,  -65.,    6.,   15.,   73.,  -27.,  -26.,   66.,\n",
              "        -58.,   29.,   57.,  -16.,  -42., -115.,   56.,   -4.,   76.,\n",
              "         -4.,  -41.,   82.,  -74.,   34.,   28.,   24.])"
            ]
          },
          "execution_count": 112,
          "metadata": {},
          "output_type": "execute_result"
        }
      ],
      "source": [
        "test1 = test[0:25].values.flatten()\n",
        "test1"
      ]
    },
    {
      "cell_type": "code",
      "execution_count": null,
      "metadata": {
        "id": "ksgrGrSYwFHA",
        "outputId": "e2d91210-dc09-437c-d24b-44ec771e4518"
      },
      "outputs": [
        {
          "data": {
            "text/plain": [
              "{'mse': 2351.371753155929, 'mae': 38.28576853633228, 'rmse': 48.49094506354696}"
            ]
          },
          "execution_count": 113,
          "metadata": {},
          "output_type": "execute_result"
        }
      ],
      "source": [
        "# Accuracy metrics\n",
        "import numpy as np\n",
        "def forecast_accuracy(forecast, actual):\n",
        "    mse = np.mean((forecast - actual)**2)        # MSE\n",
        "    mae = np.mean(np.abs(forecast - actual))    # MAE\n",
        "    rmse = np.sqrt(np.mean((forecast - actual)**2))  # RMSE\n",
        "\n",
        "\n",
        "    return({'mse':mse, 'mae': mae, 'rmse':rmse})\n",
        "\n",
        "forecast_accuracy(forecast25, test1)"
      ]
    },
    {
      "cell_type": "code",
      "execution_count": null,
      "metadata": {
        "id": "nCKqUWWKbzN5"
      },
      "outputs": [],
      "source": []
    },
    {
      "cell_type": "code",
      "execution_count": null,
      "metadata": {
        "id": "x0d18YbawFHA",
        "outputId": "d39b47e3-30c0-4f08-841e-53ebe8348c7d"
      },
      "outputs": [
        {
          "name": "stdout",
          "output_type": "stream",
          "text": [
            "48.49094506354696\n",
            "2351.371753155929\n",
            "48.49094506354696\n",
            "38.28576853633228\n"
          ]
        }
      ],
      "source": [
        "from sklearn.metrics import mean_squared_error,mean_absolute_error\n",
        "from statsmodels.tools.eval_measures import rmse\n",
        "\n",
        "# Calculate root mean squared error\n",
        "print(rmse(test1, forecast25))\n",
        "\n",
        "# Calculate mean squared error\n",
        "mean_sq_error = mean_squared_error(test1, forecast25)\n",
        "root_mean_squared_error = np.sqrt(mean_sq_error)\n",
        "mean_abs_error = mean_absolute_error(test1,forecast25)\n",
        "\n",
        "print(mean_sq_error)\n",
        "print(root_mean_squared_error)\n",
        "print(mean_abs_error)"
      ]
    },
    {
      "cell_type": "code",
      "execution_count": null,
      "metadata": {
        "id": "EmS4UhaqwFHA"
      },
      "outputs": [],
      "source": []
    },
    {
      "cell_type": "code",
      "execution_count": null,
      "metadata": {
        "id": "jaofUCiLbzN5"
      },
      "outputs": [],
      "source": []
    },
    {
      "cell_type": "code",
      "execution_count": null,
      "metadata": {
        "id": "Jhfy5qXwbzN6"
      },
      "outputs": [],
      "source": []
    },
    {
      "cell_type": "code",
      "execution_count": null,
      "metadata": {
        "id": "k22DkVt6bzN6"
      },
      "outputs": [],
      "source": []
    },
    {
      "cell_type": "code",
      "execution_count": null,
      "metadata": {
        "id": "7KOkwbE0bzN6"
      },
      "outputs": [],
      "source": []
    },
    {
      "cell_type": "code",
      "execution_count": null,
      "metadata": {
        "id": "6pA6UC7LbzN6"
      },
      "outputs": [],
      "source": []
    }
  ],
  "metadata": {
    "colab": {
      "provenance": [],
      "include_colab_link": true
    },
    "kernelspec": {
      "display_name": "Python 3 (ipykernel)",
      "language": "python",
      "name": "python3"
    },
    "language_info": {
      "codemirror_mode": {
        "name": "ipython",
        "version": 3
      },
      "file_extension": ".py",
      "mimetype": "text/x-python",
      "name": "python",
      "nbconvert_exporter": "python",
      "pygments_lexer": "ipython3",
      "version": "3.12.0"
    }
  },
  "nbformat": 4,
  "nbformat_minor": 0
}